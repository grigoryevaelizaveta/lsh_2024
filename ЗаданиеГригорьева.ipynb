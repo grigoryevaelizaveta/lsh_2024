{
 "cells": [
  {
   "cell_type": "markdown",
   "id": "d39cd8d5",
   "metadata": {},
   "source": [
    "Полный код решения на https://github.com/grigoryevaelizaveta/lsh_2024"
   ]
  },
  {
   "cell_type": "markdown",
   "id": "1de45d88",
   "metadata": {},
   "source": [
    "## Задание 1: ЛИНГВИСТИКА"
   ]
  },
  {
   "cell_type": "markdown",
   "id": "6219f83e",
   "metadata": {},
   "source": [
    "### Аналитическое решение"
   ]
  },
  {
   "cell_type": "markdown",
   "id": "0b23ad6d",
   "metadata": {},
   "source": [
    " ['л', 'и', 'н', 'г', 'в', 'и', 'с', 'т', 'и', 'к', 'а'] - 11 букв всего\n",
    " \n",
    " ['л', 'н', 'г', 'в', 'с', 'т', 'к'] - 7 букв согласных\n",
    " \n",
    " ['и', 'и', 'и', 'а'] - 4 буквы гласных ['и', 'а'] - 2 без повторений\n",
    " \n",
    " ['л', 'и', 'н', 'г', 'в', 'с', 'т', 'к', 'а'] - 9 букв без повторений\n",
    " \n",
    "Бильба собирает слова без повторений букв\n",
    "\n",
    "Количество вариантов для Бильбы ($B_1$) - это количество размещений без повторений 5 элементов из 9 элементов\n",
    "\n",
    "Т.е.\n",
    "$$ B_{1} = A^{5}_{9} = \\frac{9!}{(9 - 5)!} = \\frac{9!}{4!} $$\n",
    "\n",
    "Больба ставит гласные только на 2 и 4 позиции\n",
    "\n",
    "Количество вариантов для Больбы ($B_2$) - это количество размещений без повторений для 2 позиций из 4 гласных и для 3 позиций из 7 согласных\n",
    "\n",
    "Разберемся с первой частью. Без повторений всего 2 гласных, но нельзя забывать про возможность пары с повторением, например, \"И - И\". Будем считать количество размещений для 2 элементов из 2 элементов и прибавим количество гласных, которые повторяются. В данном случае 1, так как только \"И\" повторяется (количество повторений нам не важно).\n",
    "\n",
    "Т.е\n",
    "\n",
    "$$ A^{2}_{2} + 1 = \\frac{2!}{(2 - 2)!} + 1 = \\frac{2!}{1} + 1 = 3 $$\n",
    "\n",
    "Во второй части все куда проще, так как повторений согласных в нашем примере нет. Ищем просто количество размещений для 3 элементов из 7 элементов:\n",
    "\n",
    "$$ A^{3}_{7} = \\frac{7!}{(7 - 3)!} = \\frac{7!}{4!} $$\n",
    "\n",
    "$$ B_{2} = (A^{2}_{2} + 1) * A^{3}_{7} = (\\frac{2!}{1} + 1) * \\frac{7!}{4!} = 3 * \\frac{7!}{4!} $$\n",
    "\n",
    "$B_3$ - количество \"успешных\" вариантов, то есть пересечение $B_1$ и $B_2$\n",
    "\n",
    "Как уже говорилось выше, среди согласных повторений нет, а значит, чтобы рассчитать $B_3$ необходимо просто повторить рассчеты для $ B_2$, но не добавлять к первому значению количество повторяющихся гласных:\n",
    "\n",
    "$$ A^{2}_{2} = \\frac{2!}{(2 - 2)!} = \\frac{2!}{1} = 2 $$\n",
    "\n",
    "$$ A^{3}_{7} = \\frac{7!}{(7 - 3)!} = \\frac{7!}{4!} $$\n",
    "\n",
    "$$ B_{3} = A^{2}_{2}* A^{3}_{7} = \\frac{2!}{1} * \\frac{7!}{4!} = 2 * \\frac{7!}{4!} $$\n",
    "\n",
    "\n",
    "\n",
    "а) Если оба не знают о правилах товарищей, то следует рассчитать частное успеха $B_3$ к произведению $B_1$ и $B_2$:\n",
    "\n",
    "$$ P_1 = \\frac{B_{3}}{B_1 * B_2} = \\frac{2 * \\frac{7!}{4!}}{\\frac{9!}{4!} * 3 *\\frac{7!}{4!}} = \\frac{2}{\\frac{9!}{4!} * 3} = \\frac{2 * 4!}{9! * 3} = \\frac{2}{3 * 5 * 6 * 7 * 8 * 9} = \\frac{1}{22680} $$\n",
    "\n",
    "Вероятность $P_1$ равна $\\frac{1}{22680} * 100\\%$\n",
    "\n",
    "б) Если Бильба знает о правилах Больбы, а Больба не знает о правилах Бильбы:\n",
    "\n",
    "$$ P_2 = \\frac{B_{3}}{B_3 * B_2} = \\frac{1}{B_2}  = \\frac{1}{ 3 * \\frac{7!}{4!} } = \\frac{1}{3 * 5 * 6 * 7} = \\frac{1}{630} $$\n",
    "\n",
    "Вероятность $P_2$ равна $\\frac{1}{630} * 100\\%$"
   ]
  },
  {
   "cell_type": "markdown",
   "id": "44342f0e",
   "metadata": {},
   "source": [
    "### Программное решение"
   ]
  },
  {
   "cell_type": "code",
   "execution_count": 1,
   "id": "21811632",
   "metadata": {},
   "outputs": [
    {
     "name": "stdout",
     "output_type": "stream",
     "text": [
      "Количество вариантов Бильбы: 15120, \n",
      "Количество вариантов Больбы: 630, \n",
      "Количество вариантов, подходящих под оба варианта: 420\n",
      "\n",
      "Вероятность, с которой ребят ждет успех, если: \n",
      "а) они оба не знают правил составления слов товарища по игре: 0.004409171075837743%\n",
      "б) если Бильбе известны правила Больбы, а Больба остается в неведении: 0.15873015873015872%\n"
     ]
    }
   ],
   "source": [
    "ls = ['л', 'и', 'н', 'г', 'в', 'и', 'с', 'т', 'и', 'к', 'а']\n",
    "ls_n = set(ls)\n",
    "ls_a = ['и', 'и', 'и', 'а']\n",
    "ls_b = ['л', 'н', 'г', 'в', 'с', 'т', 'к']\n",
    "\n",
    "otv_1 = 0\n",
    "otv_2 = 0\n",
    "otv_3 = 0\n",
    "slovo = []\n",
    "ls_slovo_b = []\n",
    "ls_slovo1 = []\n",
    "ls_slovo2 = []\n",
    "ls_slovo3 = []\n",
    "\n",
    "for l1 in ls:\n",
    "    for l2 in ls:\n",
    "        for l3 in ls:\n",
    "            for l4 in ls:\n",
    "                for l5 in ls:\n",
    "                    slovo.append(l1)\n",
    "                    slovo.append(l2)\n",
    "                    slovo.append(l3)\n",
    "                    slovo.append(l4)\n",
    "                    slovo.append(l5)\n",
    "                    ls_slovo_b.append(l1)\n",
    "                    ls_slovo_b.append(l3)\n",
    "                    ls_slovo_b.append(l5)\n",
    "                    if len(slovo) == len(set(slovo)) and (l2 in ls_a and l4 in ls_a) and slovo not in ls_slovo3:\n",
    "                        otv_3 += 1\n",
    "                        ls_slovo3.append(slovo)\n",
    "                    elif len(slovo) == len(set(slovo)) and slovo not in ls_slovo1:\n",
    "                        otv_1 += 1\n",
    "                        ls_slovo1.append(slovo)\n",
    "                    elif l2 == 'а' and l4 == 'а':\n",
    "                        continue\n",
    "                    elif (l2 in ls_a and l4 in ls_a) and (l1 in ls_b and l3 in ls_b and l5 in ls_b) and (len(ls_slovo_b) == len(set(ls_slovo_b))) and slovo not in ls_slovo2:\n",
    "                        otv_2 += 1\n",
    "                        ls_slovo2.append(slovo)\n",
    "                    slovo = []\n",
    "                    ls_slovo_b = []\n",
    "\n",
    "print(f'Количество вариантов Бильбы: {otv_1}, \\nКоличество вариантов Больбы: {otv_2}, \\nКоличество вариантов, подходящих под оба варианта: {otv_3}')\n",
    "\n",
    "P1 = otv_3 / (otv_1 * otv_2)\n",
    "P2 = 1 / otv_2\n",
    "\n",
    "print(f'\\nВероятность, с которой ребят ждет успех, если: \\nа) они оба не знают правил составления слов товарища по игре: {P1 * 100}%\\nб) если Бильбе известны правила Больбы, а Больба остается в неведении: {P2 * 100}%')"
   ]
  },
  {
   "cell_type": "markdown",
   "id": "bdaac089",
   "metadata": {},
   "source": [
    "## Задание 2: Лесной твиттер"
   ]
  },
  {
   "cell_type": "code",
   "execution_count": 1,
   "id": "55d19a90",
   "metadata": {},
   "outputs": [],
   "source": [
    "import pandas as pd\n",
    "\n",
    "df1 = pd.read_csv('tweeter_dub1.csv', delimiter = ';')\n",
    "df2 = pd.read_csv('tweeter_dub2.csv', delimiter = ';')"
   ]
  },
  {
   "cell_type": "markdown",
   "id": "cdcef563",
   "metadata": {},
   "source": [
    "Составляем список позитивных и негативных слов, не зависящий от формы слова"
   ]
  },
  {
   "cell_type": "code",
   "execution_count": 2,
   "id": "1ddf628a",
   "metadata": {},
   "outputs": [],
   "source": [
    "poz_bad = ['хороший', 'спасибо', 'радостный', 'вкусный', 'забавный', 'милый', 'уютный', 'веселый', 'мелодичный', 'свободный', 'ласковый', 'впечатляющий', 'талантливый']\n",
    "neg_bad = ['ненавистный', 'безответственный', 'дикий', 'наказание', 'жестокость', 'убийство', 'беда', 'виновный', 'варварство', 'грустно', 'печально', 'плохой', 'фейк']\n",
    "poz = []\n",
    "neg = []\n",
    "\n",
    "import pymorphy3\n",
    "\n",
    "\n",
    "for w in poz_bad:\n",
    "    morph = pymorphy3.MorphAnalyzer()\n",
    "    p = morph.parse(w)[0]\n",
    "    forms = p.lexeme\n",
    "    form_lists = [form.word for form in forms]\n",
    "    for el in form_lists:\n",
    "        poz.append(el)\n",
    "    \n",
    "for w in neg_bad:\n",
    "    morph = pymorphy3.MorphAnalyzer()\n",
    "    p = morph.parse(w)[0]\n",
    "    forms = p.lexeme\n",
    "    form_lists = [form.word for form in forms]\n",
    "    for el in form_lists:\n",
    "        neg.append(el)"
   ]
  },
  {
   "cell_type": "markdown",
   "id": "b44eb7f6",
   "metadata": {},
   "source": [
    "Обрабатываем оба датасета"
   ]
  },
  {
   "cell_type": "code",
   "execution_count": 3,
   "id": "031cfab6",
   "metadata": {},
   "outputs": [],
   "source": [
    "df1['pozitive'] = 0\n",
    "df1['negative'] = 0\n",
    "df1['tone'] = 0\n",
    "for ind, row in df1.iterrows():\n",
    "    row['текст поста'].lower()\n",
    "    ls_row = []\n",
    "    st = ''\n",
    "    for sym in row['текст поста']:\n",
    "        if sym.isalpha():\n",
    "            st += sym\n",
    "        else:\n",
    "            if len(st):\n",
    "                ls_row.append(st)\n",
    "            ls_row.append(sym)\n",
    "            st = ''\n",
    "\n",
    "    for el in ls_row:\n",
    "        el.lower()\n",
    "        if el in poz:\n",
    "            df1.loc[ind, 'pozitive'] += 1\n",
    "        elif el in neg:\n",
    "            df1.loc[ind, 'negative'] += 1\n",
    "    df1.loc[ind, 'tone'] = df1.loc[ind, 'pozitive'] - df1.loc[ind, 'negative']\n",
    "    \n",
    "df2['pozitive'] = 0\n",
    "df2['negative'] = 0\n",
    "df2['tone'] = 0\n",
    "for ind, row in df2.iterrows():\n",
    "    row['текст поста'].lower()\n",
    "    ls_row = []\n",
    "    st = ''\n",
    "    for sym in row['текст поста']:\n",
    "        if sym.isalpha():\n",
    "            st += sym\n",
    "        else:\n",
    "            if len(st):\n",
    "                ls_row.append(st)\n",
    "            ls_row.append(sym)\n",
    "            st = ''\n",
    "\n",
    "    for el in ls_row:\n",
    "        el.lower()\n",
    "        if el in poz:\n",
    "            df2.loc[ind, 'pozitive'] += 1\n",
    "        elif el in neg:\n",
    "            df2.loc[ind, 'negative'] += 1\n",
    "    df2.loc[ind, 'tone'] = df2.loc[ind, 'pozitive'] - df2.loc[ind, 'negative']"
   ]
  },
  {
   "cell_type": "markdown",
   "id": "0ed62c38",
   "metadata": {},
   "source": [
    "Выведем средний тон постов на каждом дубе"
   ]
  },
  {
   "cell_type": "code",
   "execution_count": 12,
   "id": "fc7ffe8c",
   "metadata": {},
   "outputs": [
    {
     "data": {
      "text/plain": [
       "0.08494208494208494"
      ]
     },
     "execution_count": 12,
     "metadata": {},
     "output_type": "execute_result"
    }
   ],
   "source": [
    "df1['tone'].mean()"
   ]
  },
  {
   "cell_type": "code",
   "execution_count": 14,
   "id": "f6982832",
   "metadata": {},
   "outputs": [
    {
     "data": {
      "text/plain": [
       "0.05405405405405406"
      ]
     },
     "execution_count": 14,
     "metadata": {},
     "output_type": "execute_result"
    }
   ],
   "source": [
    "df2['tone'].mean()"
   ]
  },
  {
   "cell_type": "markdown",
   "id": "79408518",
   "metadata": {},
   "source": [
    "В среднем добрее первый дуб\n",
    "\n",
    "Найдем количество дней на втором дубе, в которые посты добрее среднего. Учитываем, что значение тона целочисленное, и предполагаем, что возможно несколько \"добрых\" постов в один день:"
   ]
  },
  {
   "cell_type": "code",
   "execution_count": 25,
   "id": "b906c00c",
   "metadata": {},
   "outputs": [
    {
     "data": {
      "text/plain": [
       "34"
      ]
     },
     "execution_count": 25,
     "metadata": {},
     "output_type": "execute_result"
    }
   ],
   "source": [
    "df2_2 = df2['дата поста'].loc[df2['tone'].gt(0)]\n",
    "len(df2_2.drop_duplicates())"
   ]
  },
  {
   "cell_type": "markdown",
   "id": "29c3383d",
   "metadata": {},
   "source": [
    "Количество дней, когда на втором дубе посты в среднем добрее - 34"
   ]
  },
  {
   "cell_type": "markdown",
   "id": "281437c6",
   "metadata": {},
   "source": [
    "Выявим самых добрых животных по каждому из дубов"
   ]
  },
  {
   "cell_type": "code",
   "execution_count": 61,
   "id": "13fa3f18",
   "metadata": {},
   "outputs": [
    {
     "name": "stdout",
     "output_type": "stream",
     "text": [
      "Самое доброе животное на первом дубе: {'Заяц': 7}\n",
      "Самое доброе животное на первом дубе: {'Енот': 8}\n"
     ]
    }
   ],
   "source": [
    "df1_3 = {}\n",
    "for ind, animal in df1.iterrows():\n",
    "    an = animal['Вид автора поста']\n",
    "    if animal['tone'] > 0:\n",
    "        if an in df1_3.keys():\n",
    "            df1_3[an] += 1\n",
    "        else:\n",
    "            df1_3[an] = 1\n",
    "max_value1 = max(df1_3.values())\n",
    "kind_animal1 = {k: v for k, v in df1_3.items() if v == max_value1}\n",
    "print(f'Самое доброе животное на первом дубе: {kind_animal1}')\n",
    "\n",
    "\n",
    "df2_3 = {}\n",
    "for ind, animal in df2.iterrows():\n",
    "    an = animal['Вид автора поста']\n",
    "    if animal['tone'] > 0:\n",
    "        if an in df2_3.keys():\n",
    "            df2_3[an] += 1\n",
    "        else:\n",
    "            df2_3[an] = 1\n",
    "max_value2 = max(df2_3.values())\n",
    "kind_animal2 = {k: v for k, v in df2_3.items() if v == max_value2}\n",
    "print(f'Самое доброе животное на первом дубе: {kind_animal2}')"
   ]
  },
  {
   "cell_type": "code",
   "execution_count": 63,
   "id": "3dafc249",
   "metadata": {},
   "outputs": [
    {
     "name": "stdout",
     "output_type": "stream",
     "text": [
      "Самое доброе животное на двух дубах: {'Енот': 14}\n"
     ]
    }
   ],
   "source": [
    "dict = {}\n",
    "\n",
    "for key in set(list(df1_3.keys()) + list(df2_3.keys())):\n",
    "    if key in df1_3.keys() and key in df2_3.keys():\n",
    "        dict[key] = df1_3[key] + df2_3[key]\n",
    "    elif key in df1_3.keys() and key not in df2_3.keys():\n",
    "        dict[key] = df1_3[key]\n",
    "    elif key not in df1_3.keys() and key in df2_3.keys():\n",
    "        dict[key] = df2_3[key]\n",
    "\n",
    "max_value3 = max(dict.values())\n",
    "kind_animal3 = {k: v for k, v in dict.items() if v == max_value3}\n",
    "print(f'Самое доброе животное на двух дубах: {kind_animal3}')"
   ]
  },
  {
   "cell_type": "markdown",
   "id": "d4a1d2bf",
   "metadata": {},
   "source": [
    "## Задание 3: Roll Initiative"
   ]
  },
  {
   "cell_type": "markdown",
   "id": "3ef35499",
   "metadata": {},
   "source": [
    "### Решение для данного условия"
   ]
  },
  {
   "cell_type": "code",
   "execution_count": 12,
   "id": "fb5ede48",
   "metadata": {},
   "outputs": [
    {
     "name": "stdout",
     "output_type": "stream",
     "text": [
      "Математическое ожидание: 10.990291262135923 \n",
      "Стандартное отклонение : 5.886458288079708\n"
     ]
    }
   ],
   "source": [
    "sum = 0\n",
    "mat = 0\n",
    "x = 1\n",
    "lst = [70, 10, 10, 90, 60, 80, 40, 50, 20, 30, 40, 80, 40, 100, 70, 10, 30, 30, 80, 90]\n",
    "d0 = 0\n",
    "\n",
    "for i in lst:\n",
    "    p = i\n",
    "    sum += p\n",
    "    mat += p * x\n",
    "    d0 += p * (x ** 2) #Мат ожидание квадрата х\n",
    "    x += 1\n",
    "\n",
    "mat = mat/sum #Так как нам нужна сумма делений р(х) на сумму всех бросков, удобнее сделать цикл, а потом поделить на сумму\n",
    "d = d0/sum - mat ** 2 #Дисперсия\n",
    "\n",
    "st_dev = d ** (1/2)\n",
    "\n",
    "print(f'Математическое ожидание: {mat} \\nСтандартное отклонение : {st_dev}')"
   ]
  },
  {
   "cell_type": "markdown",
   "id": "c75147ea",
   "metadata": {},
   "source": [
    "### Универсальное решение"
   ]
  },
  {
   "cell_type": "code",
   "execution_count": 11,
   "id": "f158b3cf",
   "metadata": {},
   "outputs": [
    {
     "name": "stdout",
     "output_type": "stream",
     "text": [
      "Сколько граней у дайса?\n",
      "20\n",
      "Сколько бросков было с результатом 1?\n",
      "70\n",
      "Сколько бросков было с результатом 2?\n",
      "10\n",
      "Сколько бросков было с результатом 3?\n",
      "10\n",
      "Сколько бросков было с результатом 4?\n",
      "90\n",
      "Сколько бросков было с результатом 5?\n",
      "60\n",
      "Сколько бросков было с результатом 6?\n",
      "80\n",
      "Сколько бросков было с результатом 7?\n",
      "40\n",
      "Сколько бросков было с результатом 8?\n",
      "50\n",
      "Сколько бросков было с результатом 9?\n",
      "20\n",
      "Сколько бросков было с результатом 10?\n",
      "30\n",
      "Сколько бросков было с результатом 11?\n",
      "40\n",
      "Сколько бросков было с результатом 12?\n",
      "80\n",
      "Сколько бросков было с результатом 13?\n",
      "40\n",
      "Сколько бросков было с результатом 14?\n",
      "100\n",
      "Сколько бросков было с результатом 15?\n",
      "70\n",
      "Сколько бросков было с результатом 16?\n",
      "10\n",
      "Сколько бросков было с результатом 17?\n",
      "30\n",
      "Сколько бросков было с результатом 18?\n",
      "30\n",
      "Сколько бросков было с результатом 19?\n",
      "80\n",
      "Сколько бросков было с результатом 20?\n",
      "90\n",
      "Математическое ожидание: 10.990291262135923 \n",
      "Стандартное отклонение : 5.886458288079708\n"
     ]
    }
   ],
   "source": [
    "sum = 0\n",
    "mat = 0\n",
    "x = 1\n",
    "d0 = 0\n",
    "print('Сколько граней у дайса?')\n",
    "n = int(input())\n",
    "while n > 0:\n",
    "    print(f'Сколько бросков было с результатом {x}?')\n",
    "    p = int(input())\n",
    "    sum += p\n",
    "    mat += p * x\n",
    "    d0 += p * (x ** 2)\n",
    "    x += 1\n",
    "    n -= 1\n",
    "mat = mat/sum\n",
    "d = d0/sum - mat ** 2\n",
    "st_dev = d ** (1/2)\n",
    "\n",
    "print(f'Математическое ожидание: {mat} \\nСтандартное отклонение : {st_dev}')"
   ]
  },
  {
   "cell_type": "markdown",
   "id": "6aea893c",
   "metadata": {},
   "source": [
    "## Задача 4: Напиши свой Wordle"
   ]
  },
  {
   "cell_type": "code",
   "execution_count": 15,
   "id": "463b1e1c",
   "metadata": {},
   "outputs": [
    {
     "name": "stdout",
     "output_type": "stream",
     "text": [
      "Если хотите угадывать слова на русском языке, введите RU\n",
      "Если хотите угадывать слова на английском языке, введите EN\n",
      "RU\n"
     ]
    }
   ],
   "source": [
    "import json\n",
    "import random\n",
    "\n",
    "print('Если хотите угадывать слова на русском языке, введите RU')\n",
    "print('Если хотите угадывать слова на английском языке, введите EN')\n",
    "lang = input()\n",
    "\n",
    "with open('nouns.json', 'r', encoding=\"utf-8\") as n:\n",
    "    d_nouns = json.load(n)\n",
    "\n",
    "\n",
    "ls_words= []\n",
    "file = open('noun_en.txt', 'r')\n",
    "for line in file:\n",
    "    line = line[0:-1]\n",
    "    ls_words.append(line)\n",
    "\n",
    "if lang == 'RU':\n",
    "    word_answer = random.choice(list(d_nouns))\n",
    "elif lang == 'EN':\n",
    "    word_answer = random.choice(ls_words)\n",
    "    \n",
    "word_answer.lower()\n",
    "num_try = 1"
   ]
  },
  {
   "cell_type": "code",
   "execution_count": 16,
   "id": "d5936f76",
   "metadata": {},
   "outputs": [],
   "source": [
    "def wordle(w, wa):\n",
    "    abc = []\n",
    "    abc_answer = []\n",
    "    count = 0\n",
    "    word_count = 1\n",
    "    answer_count = 0\n",
    "    count_list = []\n",
    "    chet = 0\n",
    "    \n",
    "    for i in range(0, 5): #cписок букв варианта\n",
    "        abc.append(w[i])\n",
    "    for i in range(0, 5): #список букв ответа\n",
    "        abc_answer.append(wa[i])\n",
    "        \n",
    "    for k in range(0, len(abc)):\n",
    "        for m in range(0, len(abc)):\n",
    "            if abc[k] == abc[m] and k!=m:\n",
    "                word_count += 1  #кол-во повторений буквы в варианте\n",
    "                count_list.append(k)\n",
    "                count_list.append(m)\n",
    "        for j in range(0, len(abc_answer)):\n",
    "            for l in range(0, len(abc_answer)):\n",
    "                if abc_answer[j] == abc_answer[l] and j!=l and abc_answer[j] == abc[k]:\n",
    "                    answer_count += 1\n",
    "\n",
    "        if abc[k] == abc_answer[k]:\n",
    "            print(f'{abc[k]} есть в слове и стоит на правильном месте')\n",
    "        else:\n",
    "            \n",
    "            if len(abc) == len(set(abc)): #для случая, если во варианте пользователя все буквы разные\n",
    "                for j in range(0, len(abc_answer)):\n",
    "                    if abc[k] == abc_answer[j]:\n",
    "                        count += 1\n",
    "                if count > 0:\n",
    "                    print(f'{abc[k]} есть в слове, но стоит не на правильном месте')\n",
    "                else:\n",
    "                    print(f'{abc[k]} нет в слове')\n",
    "                count = 0\n",
    "                \n",
    "            else:\n",
    "                if word_count == 1: #для случая, если проверяемая буква во варианте пользователя не повторяется\n",
    "                    \n",
    "                    for j in range(0, len(abc_answer)):\n",
    "                        if abc[k] == abc_answer[j]:\n",
    "                            count += 1\n",
    "                    if count > 0:\n",
    "                        print(f'{abc[k]} есть в слове, но стоит не на правильном месте')\n",
    "                    else:\n",
    "                        print(f'{abc[k]} нет в слове')\n",
    "                    count = 0\n",
    "                \n",
    "                else:              #для случая, если проверяемая буква во варианте пользователя повторяется\n",
    "                    if abc[k] not in abc_answer:\n",
    "                        print(f'{abc[k]} нет в слове')\n",
    "                    else:        \n",
    "                                        #для случая, если проверяемая буква во варианте пользователя повторяется, и она\n",
    "                                        #есть в ответе\n",
    "                                \n",
    "                        if word_count == answer_count:\n",
    "                            print(f'{abc[k]} есть в слове, но стоит не на правильном месте')\n",
    " \n",
    "                        else:\n",
    "                            \n",
    "                            for m in range(0, len(abc)):\n",
    "                                if abc[k] == abc[m] and k!=m:\n",
    "\n",
    "                                    for j in range(0, len(abc_answer)):\n",
    "\n",
    "                                        if word_count > answer_count:\n",
    "                                            if abc[m] == abc_answer[j] and m == j:\n",
    "                                                chet += 1    \n",
    "                            if answer_count == 0:\n",
    "                                answer_count += 1\n",
    "                            i = answer_count - chet\n",
    "\n",
    "                            count_list = sorted(list(dict.fromkeys(count_list)))\n",
    "                            for e in range (0, len(count_list)):\n",
    "                                if e < i:\n",
    "                                    \n",
    "                                    if k == count_list[e]:\n",
    "                                        print(f'{abc[k]} есть в слове, но стоит не на правильном месте')\n",
    "                                        break\n",
    "                                else:\n",
    "                                    if k == count_list[e]:\n",
    "                                        print(f'{abc[k]} нет в слове')\n",
    "                                        break\n",
    "\n",
    "        word_count = 1\n",
    "        answer_count = 0\n",
    "        chet = 0\n",
    "        count_list = []\n"
   ]
  },
  {
   "cell_type": "code",
   "execution_count": 17,
   "id": "f6a2b8ac",
   "metadata": {},
   "outputs": [
    {
     "name": "stdout",
     "output_type": "stream",
     "text": [
      "Попытка 1\n",
      "heart\n",
      "Вы ввели символ, которого нет в выбранном языке\n",
      "Попытка 1\n",
      "прыпр\n",
      "Слова не существует\n",
      "Попытка 1\n",
      "судьба\n",
      "Слишком длинное слово\n",
      "Попытка 1\n",
      "кот\n",
      "Слишком короткое слово\n",
      "Попытка 1\n",
      "ПЕТЛЯ\n",
      "п нет в слове\n",
      "е нет в слове\n",
      "т есть в слове, но стоит не на правильном месте\n",
      "л есть в слове, но стоит не на правильном месте\n",
      "я нет в слове\n",
      "Попытка 2\n",
      "мираж\n",
      "м нет в слове\n",
      "и есть в слове, но стоит не на правильном месте\n",
      "р нет в слове\n",
      "а есть в слове, но стоит не на правильном месте\n",
      "ж нет в слове\n",
      "Попытка 3\n",
      "талиб\n",
      "Слова не существует\n",
      "Попытка 3\n",
      "элита\n",
      "Правильно, вы угадали, правильный ответ: элита {'definition': 'ж. 1) Отборные, лучшие семена, растения или животные, полученные в результате селекции и предназначенные для дальнейшего размножения или разведения. 2) а) перен. Лучшие представители какой-л. части общества. б) Представители привилегированных социальных групп.'}\n"
     ]
    }
   ],
   "source": [
    "while num_try <= 6:\n",
    "\n",
    "        print(f'Попытка {num_try}')\n",
    "        word = input()\n",
    "        word = word.lower()\n",
    "        if len(word) < 5:\n",
    "            print('Слишком короткое слово')\n",
    "        elif len(word) > 5:\n",
    "            print('Слишком длинное слово')\n",
    "        elif word not in d_nouns.keys() and word not in ls_words:\n",
    "            print('Слова не существует')\n",
    "        elif word == word_answer:\n",
    "            if lang == 'RU':\n",
    "                print(f'Правильно, вы угадали, правильный ответ: {word_answer} {d_nouns[word_answer]}')\n",
    "            elif lang == 'EN':\n",
    "                print(f'Правильно, вы угадали, правильный ответ: {word_answer}')\n",
    "            break\n",
    "        elif lang == 'RU':\n",
    "            k = 0\n",
    "            for sym in word:\n",
    "                if sym not in 'абвгдеёжзийклмнопрстуфхцчшщъыьэюяАБВГДЕЁЖЗИЙКЛМНОПРСТУФХЦЧШЩЪЫЬЭЮЯ':\n",
    "                    k += 1\n",
    "            if k > 0:\n",
    "                print(f'Вы ввели символ, которого нет в выбранном языке')\n",
    "            else:        \n",
    "                \n",
    "                wordle(word, word_answer)\n",
    "                num_try += 1\n",
    "        elif lang == 'EN':\n",
    "            k = 0\n",
    "            for sym in word:\n",
    "                if sym not in 'abcdefghijklmnopqrstuvwxyzABCDEFGHIJKLMNOPQRSTUVWXYZ':\n",
    "                    k += 1\n",
    "            if k > 0:\n",
    "                print(f'Вы ввели символ, которого нет в выбранном языке')\n",
    "            else:        \n",
    "                \n",
    "                wordle(word, word_answer)\n",
    "                num_try += 1\n",
    "\n",
    "        if num_try == 7:\n",
    "            if lang == 'RU':\n",
    "                print(f'К сожалению, вы не угадали, правильный ответ: {word_answer} {d_nouns[word_answer]}')\n",
    "            elif lang == 'EN':\n",
    "                print(f'К сожалению, вы не угадали, правильный ответ: {word_answer}')"
   ]
  },
  {
   "cell_type": "markdown",
   "id": "93a580fe",
   "metadata": {},
   "source": [
    "## Задача 5 со звёздочкой: Стратегия решения для Wordle"
   ]
  },
  {
   "cell_type": "markdown",
   "id": "20b32384",
   "metadata": {},
   "source": [
    "Когда я прочитала задание, в первую очередь начала думать, как его можно решить программно. На самом деле, \"алгоритм\" решения для компьютера и \"стратегия\" для человека будут сильно отличаться. По крайней мере, если считать, что этой стратегией будет пользоваться тот, кто не сможет сходу вспомнить все слова с буквой \"т\" на четвертой позиции. Ключевое отличие заключается, на мой взгляд в том, что основываясь на уже угаданных буквах люди начинают составлять с ними возможные комбинации слогов и вспоминать похожие созвучия. Поэтому, конечно, человек будет тратить попытку, зная, что она заведомо проигрышна (например, из-за повтора той буквы, которая уже определена как неправильная), просто чтобы проверить как можно больше. "
   ]
  },
  {
   "cell_type": "markdown",
   "id": "8f16f1fc",
   "metadata": {},
   "source": [
    "Итак, раз уж я человек, опишу свой ход решения wоrdle. В первую очередь я стараюсь проверить \"популярные\" буквы, такие как \"Е\", \"А\", \"О\", \"И\", \"П\", \"Р\", \"С\", \"К\". Для этого можно потратить 2-3 попытки, вписывая слова, содержащие максимум из этих букв и при этом не имеющих повторов. Например, \"петля\", \"мираж\", \"конус\". А дальнейшие действия я уже указала выше - на ассоциация с возможными созвучиями и опираясь на известные факты пытаться прийти к решению."
   ]
  },
  {
   "cell_type": "markdown",
   "id": "5848e161",
   "metadata": {},
   "source": [
    "Компьютеру же не нужно опираться на ассоциации, ему в рамках этой задачи достаточно простого перебора со строгими правилами. Конечно, чтобы минимизировать количество попыток, можно добавить правило с \"популярными\" буквами из \"человеческого\" решения. Однако гарантом быстрого решения это не будет. Например, если загаданное слово \"выдых\"."
   ]
  },
  {
   "cell_type": "markdown",
   "id": "88973f86",
   "metadata": {},
   "source": [
    "Для удобства проверки функционала добавила \"предложенный\" вариант. Его можно не брать во внимание, он ни на что не влияет"
   ]
  },
  {
   "cell_type": "code",
   "execution_count": 66,
   "id": "11afb2a7",
   "metadata": {},
   "outputs": [
    {
     "name": "stdout",
     "output_type": "stream",
     "text": [
      "Я бы загадал слово ['н', 'а', 'л', 'и', 'м']\n",
      "Мой предполагаемый вариант: ['с', 'о', 'р', 'о', 'м']\n",
      "Было ли это слово правильным? (да/нет): нет\n",
      "Опишите порядок правильных и не правильных букв. Если буквы нет, введите 1, если есть, но не на своем месте - 2, если на своем месте - 3\n",
      "Буква с есть в слове?1\n",
      "Буква о есть в слове?1\n",
      "Буква р есть в слове?1\n",
      "Буква о есть в слове?1\n",
      "Буква м есть в слове?3\n",
      "Это была попытка номер: 1\n",
      "Мой предполагаемый вариант: ['в', 'ы', 'ж', 'и', 'м']\n",
      "Было ли это слово правильным? (да/нет): 1\n",
      "Опишите порядок правильных и не правильных букв. Если буквы нет, введите 1, если есть, но не на своем месте - 2, если на своем месте - 3\n",
      "Буква в есть в слове?1\n",
      "Буква ы есть в слове?1\n",
      "Буква ж есть в слове?1\n",
      "Буква и есть в слове?3\n",
      "Буква м есть в слове?3\n",
      "Это была попытка номер: 2\n",
      "Мой предполагаемый вариант: ['и', 'н', 'т', 'и', 'м']\n",
      "Было ли это слово правильным? (да/нет): нет\n",
      "Опишите порядок правильных и не правильных букв. Если буквы нет, введите 1, если есть, но не на своем месте - 2, если на своем месте - 3\n",
      "Буква и есть в слове?1\n",
      "Буква н есть в слове?2\n",
      "Буква т есть в слове?1\n",
      "Буква и есть в слове?3\n",
      "Буква м есть в слове?3\n",
      "Это была попытка номер: 3\n",
      "Мой предполагаемый вариант: ['н', 'а', 'л', 'и', 'м']\n",
      "Было ли это слово правильным? (да/нет): да\n",
      "Ура! Я угадал слово: ['н', 'а', 'л', 'и', 'м']\n"
     ]
    }
   ],
   "source": [
    "import json\n",
    "import random\n",
    "with open('nouns.json', 'r', encoding=\"utf-8\") as n:\n",
    "    guess_noun_dict = json.load(n)\n",
    "guess_noun_list1 = list(guess_noun_dict)    \n",
    "guess_noun_list = []\n",
    "for noun in guess_noun_list1:\n",
    "    lst = [[]]\n",
    "    for sym in noun:\n",
    "        lst[0] += sym\n",
    "    guess_noun_list += lst\n",
    "    \n",
    "answer = random.choice(guess_noun_list)\n",
    "print(f'Я бы загадал слово {answer}')\n",
    "# Функция для угадывания слова\n",
    "def guess_word():\n",
    "    \n",
    "    right_list = ['', '', '', '', '']\n",
    "    stop_list = []\n",
    "    move_list = {}\n",
    "    last_try = []\n",
    "    \n",
    "    attempts = 0\n",
    "    guessed = False\n",
    "\n",
    "    # Пока не угадано и не использованы все попытки\n",
    "    while not guessed and attempts < 6:\n",
    "        \n",
    "        guess_list = []\n",
    "\n",
    "\n",
    "        if attempts == 0:\n",
    "            guess = random.choice(guess_noun_list)\n",
    "            for sym in guess:\n",
    "                guess_list += sym\n",
    "        else:\n",
    "            rule = False\n",
    "            while not rule:\n",
    "                guess = random.choice(guess_noun_list)\n",
    "                mist = 0\n",
    "                for sym in guess:\n",
    "                    guess_list += sym\n",
    "                for sym in move_list.keys():\n",
    "                    if sym not in guess:\n",
    "                        mist += 1\n",
    "                \n",
    "                for i in range(0, 5):\n",
    "                    if guess[i] != right_list[i] and right_list[i] != '':\n",
    "                        mist += 1\n",
    "                    if guess[i] in stop_list:\n",
    "                        mist += 1\n",
    "                    if guess in last_try:\n",
    "                        mist += 1\n",
    "                    for sym in move_list.keys():\n",
    "                        if sym in guess:\n",
    "                            if move_list[sym] == i and sym == guess[i]:\n",
    "                                mist += 1\n",
    "                if mist == 0:\n",
    "                    rule = True\n",
    "                    \n",
    "\n",
    "            \n",
    "        print(f\"Мой предполагаемый вариант: {guess}\")\n",
    "        response = input(\"Было ли это слово правильным? (да/нет): \")\n",
    "\n",
    "        if response.lower() == \"да\":\n",
    "            print(f\"Ура! Я угадал слово: {guess}\")\n",
    "            guessed = True\n",
    "        else:\n",
    "            print(f\"Опишите порядок правильных и не правильных букв. Если буквы нет, введите 1, если есть, но не на своем месте - 2, если на своем месте - 3\")\n",
    "            \n",
    "            for i in range(0, 5):\n",
    "                a = input(f'Буква {guess[i]} есть в слове?')\n",
    "                if a == '3':\n",
    "                    right_list[i] = guess[i]\n",
    "                elif a == '2':\n",
    "                    s = guess[i]\n",
    "                    move_list[s] = i\n",
    "                elif a == '1':\n",
    "                    if guess[i] not in right_list and guess[i] not in move_list:\n",
    "                        stop_list += guess[i]\n",
    "                \n",
    "\n",
    "            attempts += 1\n",
    "            print(f\"Это была попытка номер: {attempts}\")\n",
    "\n",
    "    if not guessed:\n",
    "        print(\"Я не смог угадать слово за 6 попыток. Попробуйте еще раз!\")\n",
    "\n",
    "# Запуск игры\n",
    "guess_word()"
   ]
  }
 ],
 "metadata": {
  "kernelspec": {
   "display_name": "Python 3 (ipykernel)",
   "language": "python",
   "name": "python3"
  },
  "language_info": {
   "codemirror_mode": {
    "name": "ipython",
    "version": 3
   },
   "file_extension": ".py",
   "mimetype": "text/x-python",
   "name": "python",
   "nbconvert_exporter": "python",
   "pygments_lexer": "ipython3",
   "version": "3.11.5"
  }
 },
 "nbformat": 4,
 "nbformat_minor": 5
}
